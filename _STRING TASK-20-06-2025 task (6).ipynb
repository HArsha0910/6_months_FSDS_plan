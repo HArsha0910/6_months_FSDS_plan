{
 "cells": [
  {
   "cell_type": "markdown",
   "id": "3263901b-fe66-44c5-95ca-8c0af91b493f",
   "metadata": {},
   "source": [
    "# Single line comment"
   ]
  },
  {
   "cell_type": "code",
   "execution_count": 15,
   "id": "92568dce-38da-4de3-b730-4fa79f701ed6",
   "metadata": {},
   "outputs": [
    {
     "name": "stdout",
     "output_type": "stream",
     "text": [
      "P\n"
     ]
    }
   ],
   "source": [
    "letter = 'P'                \n",
    "print(letter) "
   ]
  },
  {
   "cell_type": "code",
   "execution_count": 3,
   "id": "c51268cd-af50-44d4-a3a4-69d8327304e3",
   "metadata": {},
   "outputs": [
    {
     "name": "stdout",
     "output_type": "stream",
     "text": [
      "1\n"
     ]
    }
   ],
   "source": [
    "print(len(letter))"
   ]
  },
  {
   "cell_type": "code",
   "execution_count": 4,
   "id": "dd1911f2-5465-4fda-ae8e-a00e36d63800",
   "metadata": {},
   "outputs": [
    {
     "name": "stdout",
     "output_type": "stream",
     "text": [
      "Hello, World!\n",
      "13\n"
     ]
    }
   ],
   "source": [
    "greeting = 'Hello, World!' \n",
    "print(greeting)  \n",
    "print(len(greeting))"
   ]
  },
  {
   "cell_type": "code",
   "execution_count": 5,
   "id": "4d0e2902-bdf3-4956-b64d-b4d90b0a3356",
   "metadata": {},
   "outputs": [
    {
     "name": "stdout",
     "output_type": "stream",
     "text": [
      "I hope you are enjoying 30 days of python challenge\n"
     ]
    }
   ],
   "source": [
    "sentence = \"I hope you are enjoying 30 days of python challenge\"\n",
    "print(sentence)"
   ]
  },
  {
   "cell_type": "markdown",
   "id": "67507074-b6d0-430d-aaaa-f5c034984632",
   "metadata": {},
   "source": [
    "# Multiline String"
   ]
  },
  {
   "cell_type": "code",
   "execution_count": null,
   "id": "750f8909-0d4f-4690-ad5b-d24bd7a6ee48",
   "metadata": {},
   "outputs": [],
   "source": [
    "multiline_string = '''I am a student and enjoy coding.\n",
    "I like to practice coding every day.\n",
    "That is why I created 30 days of python.'''\n",
    "print(multiline_string)"
   ]
  },
  {
   "cell_type": "markdown",
   "id": "0d2f325f-708b-4796-afb3-43acfb766208",
   "metadata": {},
   "source": [
    "# String Concatenation"
   ]
  },
  {
   "cell_type": "code",
   "execution_count": 16,
   "id": "d111ab1a-ec6f-4dbe-a9b5-736fd9341101",
   "metadata": {},
   "outputs": [
    {
     "name": "stdout",
     "output_type": "stream",
     "text": [
      "Harsha Vardhan Naradasu\n"
     ]
    }
   ],
   "source": [
    "\n",
    "\n",
    "first_name = 'Harsha Vardhan'\n",
    "last_name = 'Naradasu'\n",
    "space = ' '\n",
    "full_name = first_name  +  space + last_name\n",
    "print(full_name)"
   ]
  },
  {
   "cell_type": "markdown",
   "id": "a9251d52-6cc8-412d-8bf1-971a0fa7437f",
   "metadata": {},
   "source": [
    "print(len(first_name))\n"
   ]
  },
  {
   "cell_type": "code",
   "execution_count": 9,
   "id": "40941ebb-9cce-4b6b-ac39-d3bb722849ec",
   "metadata": {},
   "outputs": [
    {
     "name": "stdout",
     "output_type": "stream",
     "text": [
      "8\n",
      "23\n"
     ]
    }
   ],
   "source": [
    "print(len(last_name))\n",
    "print(len(full_name))"
   ]
  },
  {
   "cell_type": "code",
   "execution_count": 12,
   "id": "9affdf23-9819-4fa9-bf92-8b891ecc11da",
   "metadata": {},
   "outputs": [
    {
     "name": "stdout",
     "output_type": "stream",
     "text": [
      "True\n"
     ]
    }
   ],
   "source": [
    "print(len(first_name) > len(last_name))"
   ]
  },
  {
   "cell_type": "code",
   "execution_count": 13,
   "id": "59582368-a33a-4033-b43b-2bacb2a80999",
   "metadata": {},
   "outputs": [
    {
     "name": "stdout",
     "output_type": "stream",
     "text": [
      "False\n"
     ]
    }
   ],
   "source": [
    "print(len(first_name) > len(full_name))"
   ]
  },
  {
   "cell_type": "markdown",
   "id": "832f4b1f-b3e9-444c-969c-a23623b92c20",
   "metadata": {},
   "source": [
    "# Unpacking characters "
   ]
  },
  {
   "cell_type": "code",
   "execution_count": 17,
   "id": "fc99ae01-465b-4057-99a5-3816da401c5c",
   "metadata": {},
   "outputs": [],
   "source": [
    "language = 'python'\n",
    "a,b,c,d,e,f = language"
   ]
  },
  {
   "cell_type": "code",
   "execution_count": 19,
   "id": "d79962f4-0968-4556-94ee-52d7fb0584de",
   "metadata": {},
   "outputs": [
    {
     "name": "stdout",
     "output_type": "stream",
     "text": [
      "p\n"
     ]
    }
   ],
   "source": [
    "print(a)"
   ]
  },
  {
   "cell_type": "code",
   "execution_count": 20,
   "id": "05320e13-bcea-49c5-b9d4-8eed24faadcb",
   "metadata": {},
   "outputs": [
    {
     "name": "stdout",
     "output_type": "stream",
     "text": [
      "y\n"
     ]
    }
   ],
   "source": [
    "print(b)"
   ]
  },
  {
   "cell_type": "code",
   "execution_count": 21,
   "id": "7cf23142-593f-4fdf-bbe3-359daf96b3a1",
   "metadata": {},
   "outputs": [
    {
     "name": "stdout",
     "output_type": "stream",
     "text": [
      "n\n"
     ]
    }
   ],
   "source": [
    "print(f)"
   ]
  },
  {
   "cell_type": "markdown",
   "id": "440c65d0-51b9-4a81-a6f6-c2167d33a432",
   "metadata": {},
   "source": [
    "# Accessing characters in strings by index"
   ]
  },
  {
   "cell_type": "code",
   "execution_count": 22,
   "id": "67dbe349-5d22-4522-bdc2-4a9b6a247577",
   "metadata": {},
   "outputs": [
    {
     "name": "stdout",
     "output_type": "stream",
     "text": [
      "P\n"
     ]
    }
   ],
   "source": [
    "language = 'Python'\n",
    "first_letter = language[0]\n",
    "print(first_letter)"
   ]
  },
  {
   "cell_type": "code",
   "execution_count": 23,
   "id": "8af185ad-5574-4857-8a5c-3cf7de198536",
   "metadata": {},
   "outputs": [
    {
     "name": "stdout",
     "output_type": "stream",
     "text": [
      "n\n"
     ]
    }
   ],
   "source": [
    "language = 'Python'\n",
    "first_letter = language[5]\n",
    "print(first_letter)"
   ]
  },
  {
   "cell_type": "code",
   "execution_count": 24,
   "id": "d781f99b-77c8-40a7-a161-3bf5c0de3977",
   "metadata": {},
   "outputs": [
    {
     "name": "stdout",
     "output_type": "stream",
     "text": [
      "o\n"
     ]
    }
   ],
   "source": [
    "language = 'Python'\n",
    "first_letter = language[-2]\n",
    "print(first_letter)"
   ]
  },
  {
   "cell_type": "code",
   "execution_count": 25,
   "id": "c13743d9-7db0-47f9-91ff-5868ca6a299a",
   "metadata": {},
   "outputs": [
    {
     "name": "stdout",
     "output_type": "stream",
     "text": [
      "n\n"
     ]
    }
   ],
   "source": [
    "last_index = len(language) - 1\n",
    "last_letter = language[last_index]\n",
    "print(last_letter)"
   ]
  },
  {
   "cell_type": "code",
   "execution_count": 26,
   "id": "fc27ccac-27d4-429d-b053-36a21b22888d",
   "metadata": {},
   "outputs": [
    {
     "name": "stdout",
     "output_type": "stream",
     "text": [
      "5\n"
     ]
    }
   ],
   "source": [
    "last_index = len(language) - 1\n",
    "print(last_index)"
   ]
  },
  {
   "cell_type": "code",
   "execution_count": 27,
   "id": "f75135b7-7518-4170-b16a-91b8d51bfb48",
   "metadata": {},
   "outputs": [
    {
     "name": "stdout",
     "output_type": "stream",
     "text": [
      "o\n"
     ]
    }
   ],
   "source": [
    "last_index = len(language) - 2\n",
    "last_letter = language[last_index]\n",
    "print(last_letter)"
   ]
  },
  {
   "cell_type": "markdown",
   "id": "f26eb50a-5606-4601-bc10-9f824f245194",
   "metadata": {},
   "source": [
    "# Slicing"
   ]
  },
  {
   "cell_type": "code",
   "execution_count": 28,
   "id": "9ef83c23-6e82-488c-88bd-ed9de5049c99",
   "metadata": {},
   "outputs": [],
   "source": [
    "language = 'Python'\n",
    "first_three = language[0:3]"
   ]
  },
  {
   "cell_type": "code",
   "execution_count": 29,
   "id": "81ba56ce-1bc0-4f36-b166-36484aecc155",
   "metadata": {},
   "outputs": [
    {
     "name": "stdout",
     "output_type": "stream",
     "text": [
      "Pyt\n"
     ]
    }
   ],
   "source": [
    "print(first_three)"
   ]
  },
  {
   "cell_type": "code",
   "execution_count": 30,
   "id": "98c7c731-7a8a-42fb-9ae6-93d0e72edc87",
   "metadata": {},
   "outputs": [
    {
     "name": "stdout",
     "output_type": "stream",
     "text": [
      "hon\n"
     ]
    }
   ],
   "source": [
    "last_three = language[3:6]\n",
    "print(last_three)"
   ]
  },
  {
   "cell_type": "code",
   "execution_count": 31,
   "id": "1a1a8ef4-65fd-4e62-a98d-daec4e32dee8",
   "metadata": {},
   "outputs": [
    {
     "name": "stdout",
     "output_type": "stream",
     "text": [
      "hon\n"
     ]
    }
   ],
   "source": [
    "last_three = language[-3:]\n",
    "print(last_three)"
   ]
  },
  {
   "cell_type": "code",
   "execution_count": 34,
   "id": "f93db517-71fa-4fc6-a607-b48b013f9749",
   "metadata": {},
   "outputs": [
    {
     "name": "stdout",
     "output_type": "stream",
     "text": [
      "hon\n"
     ]
    }
   ],
   "source": [
    "last_three = language[3:]\n",
    "print(last_three)"
   ]
  },
  {
   "cell_type": "markdown",
   "id": "ac5a577c-bc76-406c-86b7-9878b6045115",
   "metadata": {},
   "source": [
    "# Skipping "
   ]
  },
  {
   "cell_type": "code",
   "execution_count": 35,
   "id": "3f088bfd-dd9c-46b1-9210-627fe32f5def",
   "metadata": {},
   "outputs": [
    {
     "name": "stdout",
     "output_type": "stream",
     "text": [
      "Python\n"
     ]
    }
   ],
   "source": [
    "language = 'Python'\n",
    "print(language)"
   ]
  },
  {
   "cell_type": "code",
   "execution_count": 37,
   "id": "60dfb749-3d92-49d9-97c3-4b678cab3e7a",
   "metadata": {},
   "outputs": [
    {
     "data": {
      "text/plain": [
       "'Pto'"
      ]
     },
     "execution_count": 37,
     "metadata": {},
     "output_type": "execute_result"
    }
   ],
   "source": [
    "language[0:6:2]\n"
   ]
  },
  {
   "cell_type": "markdown",
   "id": "aeb82b06-d769-427c-a6fc-84d4f7220630",
   "metadata": {},
   "source": [
    "# formatting"
   ]
  },
  {
   "cell_type": "code",
   "execution_count": 39,
   "id": "2eada12f-0ab7-4eff-972e-723b063e6578",
   "metadata": {},
   "outputs": [],
   "source": [
    "first_name = 'Harsha Vardhan'\n",
    "last_name = 'Naradasu'\n",
    "country = 'India'"
   ]
  },
  {
   "cell_type": "code",
   "execution_count": 41,
   "id": "a02a15b5-7f22-4a9c-a10c-edeb51e290fd",
   "metadata": {},
   "outputs": [
    {
     "name": "stdout",
     "output_type": "stream",
     "text": [
      "My name is Harsha Vardhan Naradasu and i lives in India\n"
     ]
    }
   ],
   "source": [
    "print(\"My name is {} and i lives in {}\".format(first_name +' ' + last_name,country))"
   ]
  },
  {
   "cell_type": "code",
   "execution_count": null,
   "id": "330f069d-114f-4f00-9ea4-7d847b6ef41e",
   "metadata": {},
   "outputs": [],
   "source": []
  }
 ],
 "metadata": {
  "kernelspec": {
   "display_name": "Python [conda env:base] *",
   "language": "python",
   "name": "conda-base-py"
  },
  "language_info": {
   "codemirror_mode": {
    "name": "ipython",
    "version": 3
   },
   "file_extension": ".py",
   "mimetype": "text/x-python",
   "name": "python",
   "nbconvert_exporter": "python",
   "pygments_lexer": "ipython3",
   "version": "3.12.7"
  }
 },
 "nbformat": 4,
 "nbformat_minor": 5
}
