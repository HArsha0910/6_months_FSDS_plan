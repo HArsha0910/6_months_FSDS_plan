{
 "cells": [
  {
   "cell_type": "code",
   "execution_count": 1,
   "id": "948c5eb0-d32d-40f5-9eb5-2a83fdc91926",
   "metadata": {},
   "outputs": [
    {
     "data": {
      "text/plain": [
       "10"
      ]
     },
     "execution_count": 1,
     "metadata": {},
     "output_type": "execute_result"
    }
   ],
   "source": [
    "a = 10\n",
    "b = 20\n",
    "a"
   ]
  },
  {
   "cell_type": "code",
   "execution_count": 3,
   "id": "a01ab0da-767b-4fd2-b1e8-88614ce52a96",
   "metadata": {},
   "outputs": [
    {
     "data": {
      "text/plain": [
       "20"
      ]
     },
     "execution_count": 3,
     "metadata": {},
     "output_type": "execute_result"
    }
   ],
   "source": [
    "a = 10 \n",
    "b = 20\n",
    "a\n",
    "b"
   ]
  },
  {
   "cell_type": "code",
   "execution_count": 4,
   "id": "3f9aba12-8e09-47d6-ae0d-a866995de56f",
   "metadata": {},
   "outputs": [
    {
     "name": "stdout",
     "output_type": "stream",
     "text": [
      "10\n",
      "20\n"
     ]
    }
   ],
   "source": [
    "a = 10\n",
    "b = 20\n",
    "print(a)\n",
    "print(b)"
   ]
  },
  {
   "cell_type": "code",
   "execution_count": 5,
   "id": "b1a30a2b-eace-4f8a-ae2f-440428530d6a",
   "metadata": {},
   "outputs": [
    {
     "name": "stdout",
     "output_type": "stream",
     "text": [
      "10\n",
      "10 20\n",
      "python\n",
      "10 20 python\n"
     ]
    }
   ],
   "source": [
    "print(10)\n",
    "print(10,20)\n",
    "print('python')\n",
    "print(10,20,'python')\n",
    "\n"
   ]
  },
  {
   "cell_type": "code",
   "execution_count": 7,
   "id": "e32e4c66-0328-4b70-8046-37ad9ff12315",
   "metadata": {},
   "outputs": [
    {
     "name": "stdout",
     "output_type": "stream",
     "text": [
      "50\n"
     ]
    }
   ],
   "source": [
    "num1 = 20\n",
    "num2 = 30\n",
    "add = num1+num2\n",
    "print(add)"
   ]
  },
  {
   "cell_type": "code",
   "execution_count": 8,
   "id": "3b993849-cf89-4201-aa2c-bcf2212f7a25",
   "metadata": {},
   "outputs": [
    {
     "name": "stdout",
     "output_type": "stream",
     "text": [
      "The addition of 20 and 30 is= 50\n"
     ]
    }
   ],
   "source": [
    "#print result with string \n",
    "\n",
    "num1=20 \n",
    "num2=30 \n",
    "add=num1+num2 \n",
    "print('The addition of',num1,'and',num2,'is=',add)"
   ]
  },
  {
   "cell_type": "code",
   "execution_count": 9,
   "id": "0660620f-b3e5-4bb3-a336-fccef4f815ef",
   "metadata": {},
   "outputs": [
    {
     "name": "stdout",
     "output_type": "stream",
     "text": [
      "My name is Harsha and i am 21 years old form hyd\n"
     ]
    }
   ],
   "source": [
    "name='Harsha' \n",
    "age=21 \n",
    "city='hyd' \n",
    "print('My name is',name,'and i am',age,'years old form',city)"
   ]
  },
  {
   "cell_type": "code",
   "execution_count": 10,
   "id": "d201b04e-fecf-4dcd-a643-2738cb4e6f1e",
   "metadata": {},
   "outputs": [
    {
     "name": "stdout",
     "output_type": "stream",
     "text": [
      "The addition of 20 and 30 is= 50\n"
     ]
    }
   ],
   "source": [
    "num1=20 \n",
    "num2=30 \n",
    "add=num1+num2 \n",
    "print('The addition of {} and {} is= {}'.format(num1,num2,add)) "
   ]
  },
  {
   "cell_type": "code",
   "execution_count": 13,
   "id": "290bd8e1-1a7f-4888-99bd-d1bc5d379a2d",
   "metadata": {},
   "outputs": [
    {
     "name": "stdout",
     "output_type": "stream",
     "text": [
      "hello my name is Harsha, and i am 21 years old from hyd \n"
     ]
    }
   ],
   "source": [
    "name='Harsha' \n",
    "age=21 \n",
    "city='hyd'\n",
    "print('hello my name is {}, and i am {} years old from {} '.format(name,age,city))"
   ]
  },
  {
   "cell_type": "code",
   "execution_count": null,
   "id": "e22c3a97-c77d-4da7-87f2-ae18295aeaea",
   "metadata": {},
   "outputs": [],
   "source": []
  }
 ],
 "metadata": {
  "kernelspec": {
   "display_name": "Python [conda env:base] *",
   "language": "python",
   "name": "conda-base-py"
  },
  "language_info": {
   "codemirror_mode": {
    "name": "ipython",
    "version": 3
   },
   "file_extension": ".py",
   "mimetype": "text/x-python",
   "name": "python",
   "nbconvert_exporter": "python",
   "pygments_lexer": "ipython3",
   "version": "3.12.7"
  }
 },
 "nbformat": 4,
 "nbformat_minor": 5
}
