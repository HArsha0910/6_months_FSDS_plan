{
 "cells": [
  {
   "cell_type": "code",
   "execution_count": 24,
   "id": "9ec56e03-c146-4a68-89f6-8d2765761063",
   "metadata": {},
   "outputs": [],
   "source": [
    "first_name = 'Harsha Vardhan'\n",
    "last_name = 'Naradasu'\n",
    "country = 'India'\n",
    "state = 'Andhra Pradesh'\n",
    "city = 'Elchuru'\n",
    "age = '21'\n",
    "is_married = 'No'\n",
    "skills = ['HTML','CSS','Core Java','SQL Server','Power BI']\n",
    "personal_info = '''I  am  a  passionate  computer  science  student  pursuing  a  Bachelor  of  Engineering  at  Sathyabama  University  with  a CGPA  of  7.58. I  have  developed  skills  in  programming  (Java,  SQL  Servers)  and  web  technologies  (HTML,  CSS). My recent  Projects  include  building  an  infotainment  management  system  for  students  and  teachers,  as  well  as  an Integrating  AI  Chatbot  with  Electronic  Health  Records  for  Improved  Clinical  Decision  Support.  I'm  eager  to  apply  my knowledge and contribute to innovative projects.'''"
   ]
  },
  {
   "cell_type": "code",
   "execution_count": 4,
   "id": "19c807ec-f2e8-4939-9b07-c4e19ccda626",
   "metadata": {},
   "outputs": [
    {
     "name": "stdout",
     "output_type": "stream",
     "text": [
      "First Name:  Harsha Vardhan\n"
     ]
    }
   ],
   "source": [
    "print('First Name: ',first_name)"
   ]
  },
  {
   "cell_type": "code",
   "execution_count": 6,
   "id": "74d9b738-ee87-4b21-9efe-fa0070f853b0",
   "metadata": {},
   "outputs": [
    {
     "name": "stdout",
     "output_type": "stream",
     "text": [
      "Last Name:  Naradasu\n"
     ]
    }
   ],
   "source": [
    "print('Last Name: ',last_name) "
   ]
  },
  {
   "cell_type": "code",
   "execution_count": 7,
   "id": "b33d0ca6-a8cf-4c77-99ce-4b710ab92986",
   "metadata": {},
   "outputs": [
    {
     "name": "stdout",
     "output_type": "stream",
     "text": [
      "First Name Length:  14\n"
     ]
    }
   ],
   "source": [
    "print('First Name Length: ',len(first_name))"
   ]
  },
  {
   "cell_type": "code",
   "execution_count": 8,
   "id": "b89bcf9b-388d-49f3-b417-fa8de13c5b34",
   "metadata": {},
   "outputs": [
    {
     "name": "stdout",
     "output_type": "stream",
     "text": [
      "Last Name Length:  8\n"
     ]
    }
   ],
   "source": [
    "print('Last Name Length: ',len(last_name))"
   ]
  },
  {
   "cell_type": "code",
   "execution_count": 12,
   "id": "3235e190-139b-4e2f-ad44-a52b756b83f6",
   "metadata": {},
   "outputs": [
    {
     "name": "stdout",
     "output_type": "stream",
     "text": [
      "Country:  India\n"
     ]
    }
   ],
   "source": [
    "print('Country: ', country)"
   ]
  },
  {
   "cell_type": "code",
   "execution_count": 13,
   "id": "34de537c-9d57-468e-b769-c4540e962f05",
   "metadata": {},
   "outputs": [
    {
     "name": "stdout",
     "output_type": "stream",
     "text": [
      "State:  Andhra Pradesh\n"
     ]
    }
   ],
   "source": [
    "print('State: ',state)"
   ]
  },
  {
   "cell_type": "code",
   "execution_count": 14,
   "id": "add1fc1c-04bf-4dcf-b1df-bc2f4e3b9fe0",
   "metadata": {},
   "outputs": [
    {
     "name": "stdout",
     "output_type": "stream",
     "text": [
      "City:  Elchuru\n"
     ]
    }
   ],
   "source": [
    "print('City: ',city)"
   ]
  },
  {
   "cell_type": "code",
   "execution_count": 15,
   "id": "b8bbbd07-b309-4872-9782-092fafdd2183",
   "metadata": {},
   "outputs": [
    {
     "name": "stdout",
     "output_type": "stream",
     "text": [
      "Age:  21\n"
     ]
    }
   ],
   "source": [
    "print('Age: ',age)"
   ]
  },
  {
   "cell_type": "code",
   "execution_count": 16,
   "id": "869e298b-4db7-4cfa-a50c-eb2873775ebf",
   "metadata": {},
   "outputs": [
    {
     "name": "stdout",
     "output_type": "stream",
     "text": [
      "Marriage Status:  No\n"
     ]
    }
   ],
   "source": [
    "print('Marriage Status: ',is_married)"
   ]
  },
  {
   "cell_type": "code",
   "execution_count": 17,
   "id": "c9a046c2-8ae6-497c-af58-502a09e68ec7",
   "metadata": {},
   "outputs": [
    {
     "name": "stdout",
     "output_type": "stream",
     "text": [
      "Skills: ('HTML', 'CSS', 'Core Java', 'SQL Server', 'Power BI')\n"
     ]
    }
   ],
   "source": [
    "print('Skills:',skills)"
   ]
  },
  {
   "cell_type": "code",
   "execution_count": 25,
   "id": "f00d0b25-a96d-4928-9b51-08b07b66f678",
   "metadata": {},
   "outputs": [
    {
     "name": "stdout",
     "output_type": "stream",
     "text": [
      "Personal Information: I  am  a  passionate  computer  science  student  pursuing  a  Bachelor  of  Engineering  at  Sathyabama  University  with  a CGPA  of  7.58. I  have  developed  skills  in  programming  (Java,  SQL  Servers)  and  web  technologies  (HTML,  CSS). My recent  Projects  include  building  an  infotainment  management  system  for  students  and  teachers,  as  well  as  an Integrating  AI  Chatbot  with  Electronic  Health  Records  for  Improved  Clinical  Decision  Support.  I'm  eager  to  apply  my knowledge and contribute to innovative projects.\n"
     ]
    }
   ],
   "source": [
    "print('Personal Information:',personal_info)"
   ]
  },
  {
   "cell_type": "code",
   "execution_count": 26,
   "id": "ea38a637-cee6-40d3-a3ca-1a9b881c381c",
   "metadata": {},
   "outputs": [
    {
     "name": "stdout",
     "output_type": "stream",
     "text": [
      "My address is India Andhra Pradesh Elchuru\n"
     ]
    }
   ],
   "source": [
    "print('My address is',country,state,city)"
   ]
  },
  {
   "cell_type": "code",
   "execution_count": 30,
   "id": "e34f50f9-5adc-4788-a316-e7d5bd980e71",
   "metadata": {},
   "outputs": [
    {
     "name": "stdout",
     "output_type": "stream",
     "text": [
      "Harsha VardhanNaradasu\n"
     ]
    }
   ],
   "source": [
    "print(first_name + last_name)"
   ]
  },
  {
   "cell_type": "code",
   "execution_count": 53,
   "id": "712f61b6-c9a6-4431-9ee5-964c35aab6df",
   "metadata": {},
   "outputs": [
    {
     "name": "stdout",
     "output_type": "stream",
     "text": [
      "My name is Harsha Vardhan Naradasu and i lives in Elchuru\n"
     ]
    }
   ],
   "source": [
    "print(\"My name is {} and i lives in {}\".format(first_name +' ' + last_name,city))"
   ]
  },
  {
   "cell_type": "code",
   "execution_count": 54,
   "id": "7590689a-38f7-4a65-beb6-5958a6b62969",
   "metadata": {},
   "outputs": [],
   "source": [
    "first_name, last_name, country, age, is_married = 'HARSHA', 'NARADASU', 'INDIA', 21, False"
   ]
  },
  {
   "cell_type": "code",
   "execution_count": 55,
   "id": "34d27670-122c-429b-bf33-71ffbba3931e",
   "metadata": {},
   "outputs": [
    {
     "name": "stdout",
     "output_type": "stream",
     "text": [
      "HARSHA NARADASU INDIA 21 False\n"
     ]
    }
   ],
   "source": [
    "print(first_name, last_name, country, age, is_married)"
   ]
  },
  {
   "cell_type": "code",
   "execution_count": null,
   "id": "6e0e3c54-8221-4f4f-8f7e-c9c7222a5a33",
   "metadata": {},
   "outputs": [],
   "source": []
  }
 ],
 "metadata": {
  "kernelspec": {
   "display_name": "Python [conda env:base] *",
   "language": "python",
   "name": "conda-base-py"
  },
  "language_info": {
   "codemirror_mode": {
    "name": "ipython",
    "version": 3
   },
   "file_extension": ".py",
   "mimetype": "text/x-python",
   "name": "python",
   "nbconvert_exporter": "python",
   "pygments_lexer": "ipython3",
   "version": "3.12.7"
  }
 },
 "nbformat": 4,
 "nbformat_minor": 5
}
